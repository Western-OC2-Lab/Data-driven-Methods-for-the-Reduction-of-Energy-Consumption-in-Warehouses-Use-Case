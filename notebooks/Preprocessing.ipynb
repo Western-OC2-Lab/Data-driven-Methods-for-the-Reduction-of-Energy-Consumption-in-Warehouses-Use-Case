{
 "cells": [
  {
   "cell_type": "code",
   "execution_count": null,
   "id": "98d2f73b",
   "metadata": {},
   "outputs": [],
   "source": [
    "import pandas as pd\n",
    "import numpy as np\n",
    "import os\n",
    "import matplotlib.pyplot as plt\n",
    "import seaborn as sns"
   ]
  },
  {
   "cell_type": "markdown",
   "id": "33b56310",
   "metadata": {},
   "source": [
    "## This part of the code is used to partition the datasets of each floor"
   ]
  },
  {
   "cell_type": "code",
   "execution_count": null,
   "id": "596463d5",
   "metadata": {},
   "outputs": [],
   "source": [
    "set_zones = {\n",
    "    'Floor1': 4,\n",
    "    'Floor2': 4,\n",
    "    'Floor3': 5,\n",
    "    'Floor4': 5,\n",
    "    'Floor5': 5,\n",
    "    'Floor6': 5,\n",
    "    'Floor7': 5\n",
    "}"
   ]
  },
  {
   "cell_type": "code",
   "execution_count": null,
   "id": "fc04e218",
   "metadata": {},
   "outputs": [],
   "source": [
    "# This function returns the set of continuous frames of data, such that each frame extends to more than an hour\n",
    "def continuous_section_frame(data):\n",
    "    data = data.reset_index()\n",
    "    inds = np.where(data.Date.diff() != np.timedelta64(1, 'm'))[0]\n",
    "    data = data.set_index('Date')\n",
    "    cont_sections = list()\n",
    "    if len(inds) > 0:\n",
    "        for i, ind in enumerate(inds[:-1]):\n",
    "            aux = data.iloc[ind:inds[i+1]]\n",
    "            if len(aux) >= 60:\n",
    "                cont_sections.append(aux)\n",
    "        aux = data.iloc[inds[-1]:]\n",
    "        if len(aux) >= 60:\n",
    "            cont_sections.append(aux)\n",
    "\n",
    "    return cont_sections\n",
    "\n",
    "def retrieve_dataframe(cont_sections):\n",
    "    all_df = pd.DataFrame()\n",
    "    for idx, section in enumerate(cont_sections):\n",
    "        frame_name = f\"frame_{idx}\"\n",
    "        section['frame_id'] = frame_name\n",
    "        all_df = pd.concat([all_df, section])\n",
    "    return all_df\n",
    "\n",
    "def get_zone_features(zone_nb, df_columns):\n",
    "    return [col for col in df_columns if zone_nb in col]"
   ]
  },
  {
   "cell_type": "code",
   "execution_count": null,
   "id": "dad11bde",
   "metadata": {},
   "outputs": [],
   "source": [
    "from tqdm.notebook import trange, tqdm\n",
    "\n",
    "# This code generates the data of each zone, appended with information about the corresponding time frame\n",
    "for filename in tqdm(os.listdir(\"../datasets\")):\n",
    "    if filename.endswith(\".csv\") and filename != \"Thailand_Holidays.csv\":\n",
    "        df = pd.read_csv(f\"../datasets/{filename}\", index_col=[0])\n",
    "        floor_nb = filename.split(\".\")[0][-1]\n",
    "        date_name = filename[:4]\n",
    "        name_floor = f\"Floor{floor_nb}\"\n",
    "        nb_zones = set_zones[name_floor]\n",
    "        for i in range(1, nb_zones+1):\n",
    "            zone_features = get_zone_features(f\"z{i}\", df.columns)\n",
    "            df_zone = df[zone_features]\n",
    "            df_zone.dropna(inplace=True)\n",
    "            df_zone.index = pd.to_datetime(df_zone.index)\n",
    "            cont_sections = continuous_section_frame(df_zone)\n",
    "            if len(cont_sections) > 0:\n",
    "                all_df = retrieve_dataframe(cont_sections)\n",
    "                print(all_df.index[-1] - all_df.index[0], all_df.shape, f\"{date_name}_z{i}_{name_floor}.csv\")\n",
    "                all_df.to_csv(f\"../datasets/generated/{date_name}_z{i}_{name_floor}.csv\")"
   ]
  },
  {
   "cell_type": "code",
   "execution_count": null,
   "id": "0d19e84b",
   "metadata": {},
   "outputs": [],
   "source": []
  }
 ],
 "metadata": {
  "kernelspec": {
   "display_name": "Python 3 (ipykernel)",
   "language": "python",
   "name": "python3"
  },
  "language_info": {
   "codemirror_mode": {
    "name": "ipython",
    "version": 3
   },
   "file_extension": ".py",
   "mimetype": "text/x-python",
   "name": "python",
   "nbconvert_exporter": "python",
   "pygments_lexer": "ipython3",
   "version": "3.9.5"
  }
 },
 "nbformat": 4,
 "nbformat_minor": 5
}
