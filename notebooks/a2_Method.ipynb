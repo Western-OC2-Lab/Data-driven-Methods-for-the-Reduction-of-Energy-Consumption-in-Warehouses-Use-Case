{
 "cells": [
  {
   "cell_type": "code",
   "execution_count": null,
   "id": "443372b0",
   "metadata": {},
   "outputs": [],
   "source": [
    "import pandas as pd\n",
    "import numpy as np\n",
    "import os\n",
    "import matplotlib.pyplot as plt\n",
    "import seaborn as sns\n",
    "from sklearn.linear_model import Ridge, Lasso\n",
    "from sklearn.ensemble import RandomForestRegressor, GradientBoostingRegressor, BaggingRegressor\n",
    "from sklearn.preprocessing import StandardScaler\n",
    "from sklearn.model_selection import train_test_split"
   ]
  },
  {
   "cell_type": "code",
   "execution_count": null,
   "id": "2affb025",
   "metadata": {},
   "outputs": [],
   "source": [
    "sample_df = pd.read_csv(\"../datasets/generated/2019_z2_Floor6.csv\", index_col=[0])\n",
    "sample_df.index = pd.to_datetime(sample_df.index)\n",
    "sample_df.head()"
   ]
  },
  {
   "cell_type": "code",
   "execution_count": null,
   "id": "e6d37d6d",
   "metadata": {},
   "outputs": [],
   "source": [
    "df_holiday = pd.read_csv(\"../datasets/Thailand_Holidays.csv\")\n",
    "df_holiday.head()"
   ]
  },
  {
   "cell_type": "code",
   "execution_count": null,
   "id": "bd596af7",
   "metadata": {},
   "outputs": [],
   "source": [
    "df_holiday = df_holiday.loc[(df_holiday.Type == 'Government Holiday') | (df_holiday.Type == 'National Holiday'), :]"
   ]
  },
  {
   "cell_type": "code",
   "execution_count": null,
   "id": "0df4406a",
   "metadata": {},
   "outputs": [],
   "source": [
    "df_holiday['month']= df_holiday['Date'].apply(lambda x : int(x.split(\"/\")[0]))\n",
    "df_holiday['day']= df_holiday['Date'].apply(lambda x : int(x.split(\"/\")[1]))"
   ]
  },
  {
   "cell_type": "code",
   "execution_count": null,
   "id": "53e05f06",
   "metadata": {},
   "outputs": [],
   "source": [
    "def check_holiday(df_holiday, date):\n",
    "    day, month = int(date.day), int(date.month)\n",
    "    res = df_holiday.loc[(df_holiday.month == month) & (df_holiday.day == day)].shape[0]\n",
    "\n",
    "    return int(res > 0)"
   ]
  },
  {
   "cell_type": "code",
   "execution_count": null,
   "id": "543d4436",
   "metadata": {},
   "outputs": [],
   "source": [
    "sample_df['output'] = sample_df['z2_AC1(kW)']\n",
    "# sample_df.drop(columns = ['z2_AC1(kW)', 'frame_id'], inplace=True)\n",
    "sample_df.drop(columns = ['frame_id'], inplace=True)"
   ]
  },
  {
   "cell_type": "code",
   "execution_count": null,
   "id": "218f757f",
   "metadata": {},
   "outputs": [],
   "source": [
    "def apply_m2(data):\n",
    "    data.loc[:, 'month'] = data.index.month\n",
    "    data.loc[:, 'DoW'] = data.index.dayofweek\n",
    "    data.loc[:, 'hour'] = data.index.hour\n",
    "    data.loc[:, 'holiday'] = data.index.to_series().apply(lambda x: check_holiday(df_holiday, x))\n",
    "    \n",
    "    return data"
   ]
  },
  {
   "cell_type": "code",
   "execution_count": null,
   "id": "17039754",
   "metadata": {},
   "outputs": [],
   "source": [
    "def produce_training_validation_dfs(all_df):\n",
    "    training_set, validation_set = train_test_split(all_df, test_size=0.3, random_state=0)\n",
    "    \n",
    "    scaler = StandardScaler()\n",
    "    scaled_train_df = pd.DataFrame(np.c_[scaler.fit_transform(training_set.drop(columns = ['output'])), training_set.output.values], columns = sampling_df.columns)\n",
    "    scaled_validation_df = pd.DataFrame(np.c_[scaler.fit_transform(validation_set.drop(columns = ['output'])), validation_set.output.values], columns = validation_set.columns)\n",
    "    \n",
    "    scaled_train_df.index = training_set.index\n",
    "    scaled_validation_df.index = validation_set.index \n",
    "    scaled_train_df, scaled_validation_df = apply_m2(scaled_validation_df), apply_m2(scaled_validation_df)\n",
    "    \n",
    "    scaled_train_df = pd.get_dummies(scaled_train_df,columns = ['month', 'DoW', 'hour'], drop_first=True)\n",
    "    scaled_validation_df = pd.get_dummies(scaled_validation_df,columns = ['month', 'DoW', 'hour'], drop_first=True)\n",
    "    \n",
    "    return scaled_train_df, scaled_validation_df"
   ]
  },
  {
   "cell_type": "code",
   "execution_count": null,
   "id": "efb4d783",
   "metadata": {},
   "outputs": [],
   "source": [
    "def produce_shifted_df(sample_df, future):\n",
    "    new_df = sample_df.copy()\n",
    "    new_df.loc[:, 'output'] = new_df.loc[:, 'output'].shift(periods = -future)\n",
    "    \n",
    "    new_df.dropna(inplace=True)\n",
    "    return new_df"
   ]
  },
  {
   "cell_type": "code",
   "execution_count": null,
   "id": "b9a0c70b",
   "metadata": {},
   "outputs": [],
   "source": [
    "from sklearn.linear_model import Ridge, Lasso\n",
    "from sklearn.ensemble import RandomForestRegressor, GradientBoostingRegressor, BaggingRegressor\n",
    "from tqdm.notebook import trange, tqdm\n",
    "from sklearn.model_selection import GridSearchCV, train_test_split\n",
    "from sklearn.metrics import mean_absolute_error\n",
    "\n",
    "\n",
    "algorith_parm_map = {\n",
    "    'rf': {'max_depth': [3, 5, 10],\n",
    "               'min_samples_split': [2, 5, 10]},\n",
    "    'gboost': {'max_depth': [3, 5, 10],\n",
    "               'min_samples_split': [2, 5, 10]},\n",
    "    'lasso': {'alpha': np.logspace(-4, -0.5, 10)},\n",
    "    'ridge': {'alpha': np.logspace(-4, -0.5, 10)}\n",
    "}\n",
    "\n",
    "future_values = [5, 10, 15, 20]\n",
    "alg_best = pd.DataFrame()\n",
    "sampling_df = sample_df.sample(n = 100000, random_state = 0)\n",
    "\n",
    "for f in tqdm(future_values):\n",
    "    dict_result = {}\n",
    "    dict_result['future'] = f\n",
    "    \n",
    "    scaled_train_df, scaled_validation_df = produce_training_validation_dfs(sampling_df)\n",
    "    \n",
    "    shifted_df_train, shifted_df_validation = produce_shifted_df(scaled_train_df, f), produce_shifted_df(scaled_validation_df, f)\n",
    "\n",
    "    for alg in tqdm(algorith_parm_map.keys()):\n",
    "\n",
    "        param_grid = algorith_parm_map[alg]\n",
    "        base_estimator = None\n",
    "        if alg == 'rf':\n",
    "            base_estimator = RandomForestRegressor(random_state = 0)\n",
    "        elif alg == 'gboost':\n",
    "            base_estimator = GradientBoostingRegressor(random_state = 0)\n",
    "        elif alg == 'lasso':\n",
    "            base_estimator = Lasso(random_state = 0)\n",
    "        else:\n",
    "            base_estimator = Ridge(random_state = 0)\n",
    "\n",
    "        cv_regressor = GridSearchCV(base_estimator, param_grid, scoring = 'neg_mean_absolute_error', cv = 3, verbose=1)\n",
    "        X_train, y_train = shifted_df_train.drop(columns  =['output']), shifted_df_train.output.values\n",
    "        X_validation, y_validation = shifted_df_validation.drop(columns  =['output']), shifted_df_validation.output.values\n",
    "\n",
    "        cv_regressor.fit(X_train, y_train)\n",
    "        results_df = pd.DataFrame.from_dict(cv_regressor.cv_results_)\n",
    "        y_predictions = cv_regressor.predict(X_validation)\n",
    "        dict_result[alg] = mean_absolute_error(y_validation, y_predictions)\n",
    "\n",
    "        results_df.to_csv(f\"../results/stats/2019_z2_Floor6_m2_{alg}_f-{f}_training.csv\")\n",
    "    alg_best = pd.concat([alg_best, pd.DataFrame.from_dict([dict_result])])\n",
    "alg_best.to_csv(\"../results/stats/2019_z2_Floor6_m2_validation.csv\")"
   ]
  },
  {
   "cell_type": "code",
   "execution_count": null,
   "id": "79bed3bc",
   "metadata": {},
   "outputs": [],
   "source": []
  }
 ],
 "metadata": {
  "kernelspec": {
   "display_name": "Python 3 (ipykernel)",
   "language": "python",
   "name": "python3"
  },
  "language_info": {
   "codemirror_mode": {
    "name": "ipython",
    "version": 3
   },
   "file_extension": ".py",
   "mimetype": "text/x-python",
   "name": "python",
   "nbconvert_exporter": "python",
   "pygments_lexer": "ipython3",
   "version": "3.9.5"
  }
 },
 "nbformat": 4,
 "nbformat_minor": 5
}
