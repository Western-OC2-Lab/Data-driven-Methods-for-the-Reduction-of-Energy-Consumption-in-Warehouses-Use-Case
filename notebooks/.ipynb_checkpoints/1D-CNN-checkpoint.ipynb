{
 "cells": [
  {
   "cell_type": "code",
   "execution_count": null,
   "id": "1cf307a0",
   "metadata": {},
   "outputs": [],
   "source": [
    "from tensorflow.keras.models import Sequential\n",
    "from tensorflow.keras.layers import Dense\n",
    "from tensorflow.keras.layers import Flatten\n",
    "from tensorflow.keras.layers import Dropout\n",
    "from tensorflow.keras.layers import Conv1D\n",
    "from tensorflow.keras.layers import MaxPooling1D\n",
    "from sklearn.metrics import mean_absolute_error\n",
    "from tensorflow.keras.callbacks import EarlyStopping\n",
    "from tensorflow import keras\n",
    "from sklearn.preprocessing import StandardScaler\n",
    "import pandas as pd\n",
    "import numpy as np\n",
    "import os\n",
    "import matplotlib.pyplot as plt\n",
    "import seaborn as sns"
   ]
  },
  {
   "cell_type": "markdown",
   "id": "89be9ac9",
   "metadata": {},
   "source": [
    "## This part of the code includes the creation of models and data preparation for 1D-CNN models"
   ]
  },
  {
   "cell_type": "code",
   "execution_count": null,
   "id": "c34c02b3",
   "metadata": {},
   "outputs": [],
   "source": [
    "set_conv = [32, 64]\n",
    "dense_layers = [128, 64]\n",
    "\n",
    "'''\n",
    "    This code creates the 1D-CNN model with parameters to determine the model architecture with specific number of time stemps and \n",
    "    the number of features\n",
    "'''\n",
    "def create_model(set_conv, dense_layers, n_timesteps,n_features, activation, lr):\n",
    "    model = Sequential()\n",
    "    model.add(Conv1D(filters=set_conv[0], kernel_size=3, activation=activation, input_shape=(n_timesteps,n_features)))\n",
    "\n",
    "    for conv_filter in set_conv[1:]:\n",
    "        model.add(Conv1D(filters=conv_filter, kernel_size=3, activation=activation))\n",
    "    model.add(Dropout(0.5))\n",
    "    model.add(Flatten())\n",
    "    \n",
    "    opt = keras.optimizers.Adam(learning_rate = lr)\n",
    "    for l in dense_layers:\n",
    "        model.add(Dense(l, activation))\n",
    "    model.add(Dense(1, activation))\n",
    "    model.compile(loss='mean_squared_error', optimizer=opt, metrics=['mean_absolute_error'])\n",
    "    \n",
    "    return model"
   ]
  },
  {
   "cell_type": "code",
   "execution_count": null,
   "id": "9227cea7",
   "metadata": {},
   "outputs": [],
   "source": [
    "from tqdm.notebook import trange, tqdm\n",
    "\n",
    "# This code creates the sequence structure required as input for the 1D-CNN model\n",
    "def split_sequences(sequences, n_steps_in, out_steps, output_var):\n",
    "    X, y= list(), list()\n",
    "    for i in np.arange(start=0, stop=len(sequences)):\n",
    "        # find the end of this pattern\n",
    "        end_ix = i + (n_steps_in-1)\n",
    "        out_idx = end_ix + out_steps\n",
    "        if out_idx >= len(sequences):\n",
    "            break\n",
    "        # gather input and output parts of the pattern\n",
    "        seq_x = sequences.loc[i:end_ix, :]\n",
    "        seq_x.drop(columns = output_var, inplace=True)\n",
    "        seq_x = seq_x.values\n",
    "        seq_y = sequences.loc[out_idx, output_var]\n",
    "        X.append(seq_x)\n",
    "        y.append(seq_y)\n",
    "    return np.asarray(X).astype(np.float32), np.asarray(y).astype(np.float32)"
   ]
  },
  {
   "cell_type": "code",
   "execution_count": null,
   "id": "4d60e4e5",
   "metadata": {},
   "outputs": [],
   "source": [
    "def get_frame_data(all_df, frames):\n",
    "    df_data  = pd.DataFrame()\n",
    "    for frame in frames:\n",
    "        df_frame = all_df.loc[all_df.frame_id == frame, :]\n",
    "        df_data = pd.concat([df_data, df_frame])\n",
    "    return df_data"
   ]
  },
  {
   "cell_type": "markdown",
   "id": "5609323a",
   "metadata": {},
   "source": [
    "## 1D-CNN code execution"
   ]
  },
  {
   "cell_type": "code",
   "execution_count": null,
   "id": "6d364d57",
   "metadata": {},
   "outputs": [],
   "source": [
    "sample_df = pd.read_csv(\"../datasets/generated/2019_z2_Floor6.csv\", index_col=[0])\n",
    "sample_df.head()"
   ]
  },
  {
   "cell_type": "code",
   "execution_count": null,
   "id": "788928e4",
   "metadata": {},
   "outputs": [],
   "source": [
    "sample_df['output'] = sample_df['z2_AC1(kW)']"
   ]
  },
  {
   "cell_type": "code",
   "execution_count": null,
   "id": "5a628014",
   "metadata": {},
   "outputs": [],
   "source": [
    "sample_df.head()"
   ]
  },
  {
   "cell_type": "code",
   "execution_count": null,
   "id": "40826f5b",
   "metadata": {},
   "outputs": [],
   "source": [
    "unique_frames = np.unique(sample_df.frame_id.values)"
   ]
  },
  {
   "cell_type": "markdown",
   "id": "6e68192e",
   "metadata": {},
   "source": [
    "## This code trains and retrieves the validation results for different 1D-CNN configurations"
   ]
  },
  {
   "cell_type": "code",
   "execution_count": null,
   "id": "60a9de8b",
   "metadata": {},
   "outputs": [],
   "source": [
    "from sklearn.metrics import mean_absolute_error, mean_squared_error\n",
    "from sklearn.model_selection import train_test_split\n",
    "import time\n",
    "\n",
    "set_hs_fs = [[5, 5], [10, 10],[15, 15],[20, 20]]\n",
    "\n",
    "set_convs = [[128], [64], [32], [32, 64], [64, 128]]\n",
    "\n",
    "set_dense = [[128], [64], [32], [32, 64], [64, 128], [32, 64, 128]]\n",
    "\n",
    "df_results = pd.DataFrame()\n",
    "random_frames = np.random.choice(unique_frames.shape[0], 120)\n",
    "test_size = 0.7\n",
    "training_frames, testing_frames = unique_frames[random_frames[:int(test_size*len(random_frames))]], unique_frames[random_frames[int(test_size*len(random_frames)):]]\n",
    "\n",
    "for h_f in tqdm(set_hs_fs):\n",
    "    dict_result = {}\n",
    "    h, f = h_f[0], h_f[1]\n",
    "    dict_result['history'], dict_result['future'] = h, f\n",
    "    training_data, validation_data = get_frame_data(sample_df, training_frames), get_frame_data(sample_df, testing_frames)\n",
    "    \n",
    "    scaler = StandardScaler()\n",
    "    scaled_train_df = pd.DataFrame(np.c_[scaler.fit_transform(training_data.drop(columns = ['output', 'frame_id'])), training_data.frame_id.values, training_data.output.values], columns = training_data.columns)\n",
    "    scaled_validation_df = pd.DataFrame(np.c_[scaler.transform(validation_data.drop(columns = ['output', 'frame_id'])), validation_data.frame_id.values, validation_data.output.values], columns = validation_data.columns)\n",
    "    \n",
    "    scaled_train_df.drop(columns = ['frame_id'], inplace=True)\n",
    "    scaled_validation_df.drop(columns = ['frame_id'], inplace=True)\n",
    "    \n",
    "    output_var = ['output']\n",
    "    \n",
    "    X_train, y_train = split_sequences(scaled_train_df, h, f, output_var)\n",
    "    X_validation, y_validation = split_sequences(scaled_validation_df, f, f, output_var)\n",
    "    \n",
    "    for combination_conv in tqdm(set_convs):\n",
    "        for combination_dense in tqdm(set_dense):\n",
    "            if type(combination_conv) is int:\n",
    "                combination_conv = np.array([combination_conv])\n",
    "            if type(combination_dense) is int:\n",
    "                combination_dense = np.array([combination_dense])\n",
    "            model = create_model(combination_conv, combination_dense, h,len(sample_df.columns) - 2, 'linear', 1e-3)\n",
    "            str_conv = \"_\".join([str(conv) for conv in combination_conv])\n",
    "            str_dense = \"_\".join([str(conv) for conv in combination_dense])\n",
    "\n",
    "            dict_result['conv'] = str_conv\n",
    "            dict_result['dense'] = str_dense\n",
    "            start_time = time.time()\n",
    "            model.fit(X_train, y_train, verbose=0, batch_size=16, epochs = 5)\n",
    "            end_time = time.time()\n",
    "\n",
    "            total_train_time = round((end_time - start_time) / 60, 2)\n",
    "\n",
    "            training_pred = model.predict(X_train)\n",
    "            validation_pred = model.predict(X_validation)\n",
    "\n",
    "            dict_result['train_mse'] = mean_squared_error(y_train, training_pred)\n",
    "            dict_result['train_mae'] = mean_absolute_error(y_train, training_pred)\n",
    "            dict_result['training_time'] = total_train_time\n",
    "\n",
    "            dict_result['validation_mse'] = mean_squared_error(y_validation, validation_pred)\n",
    "            dict_result['validation_mae'] = mean_absolute_error(y_validation, validation_pred)\n",
    "\n",
    "            df_results = pd.concat([df_results, pd.DataFrame.from_dict([dict_result])])"
   ]
  },
  {
   "cell_type": "code",
   "execution_count": null,
   "id": "0667dc15",
   "metadata": {},
   "outputs": [],
   "source": [
    "df_results.index = range(df_results.shape[0])"
   ]
  },
  {
   "cell_type": "code",
   "execution_count": null,
   "id": "739bfeec",
   "metadata": {},
   "outputs": [],
   "source": [
    "df_results.to_csv(\"../results/stats/2019_z2_Floor6_1DCNN_validation.csv\")"
   ]
  },
  {
   "cell_type": "code",
   "execution_count": null,
   "id": "0c514255",
   "metadata": {},
   "outputs": [],
   "source": []
  }
 ],
 "metadata": {
  "kernelspec": {
   "display_name": "Python 3 (ipykernel)",
   "language": "python",
   "name": "python3"
  },
  "language_info": {
   "codemirror_mode": {
    "name": "ipython",
    "version": 3
   },
   "file_extension": ".py",
   "mimetype": "text/x-python",
   "name": "python",
   "nbconvert_exporter": "python",
   "pygments_lexer": "ipython3",
   "version": "3.9.5"
  }
 },
 "nbformat": 4,
 "nbformat_minor": 5
}
