{
 "cells": [
  {
   "cell_type": "code",
   "execution_count": 1,
   "id": "48d7bedf",
   "metadata": {},
   "outputs": [
    {
     "name": "stderr",
     "output_type": "stream",
     "text": [
      "c:\\users\\ishaer\\appdata\\local\\programs\\python\\python39\\lib\\site-packages\\scipy\\__init__.py:138: UserWarning: A NumPy version >=1.16.5 and <1.23.0 is required for this version of SciPy (detected version 1.24.2)\n",
      "  warnings.warn(f\"A NumPy version >={np_minversion} and <{np_maxversion} is required for this version of \"\n"
     ]
    }
   ],
   "source": [
    "import pandas as pd\n",
    "import numpy as np\n",
    "import matplotlib.pyplot as plt\n",
    "import seaborn as sns"
   ]
  },
  {
   "cell_type": "code",
   "execution_count": 2,
   "id": "25044faa",
   "metadata": {},
   "outputs": [
    {
     "data": {
      "text/html": [
       "<div>\n",
       "<style scoped>\n",
       "    .dataframe tbody tr th:only-of-type {\n",
       "        vertical-align: middle;\n",
       "    }\n",
       "\n",
       "    .dataframe tbody tr th {\n",
       "        vertical-align: top;\n",
       "    }\n",
       "\n",
       "    .dataframe thead th {\n",
       "        text-align: right;\n",
       "    }\n",
       "</style>\n",
       "<table border=\"1\" class=\"dataframe\">\n",
       "  <thead>\n",
       "    <tr style=\"text-align: right;\">\n",
       "      <th></th>\n",
       "      <th>z2_AC1(kW)</th>\n",
       "      <th>z2_Light(kW)</th>\n",
       "      <th>z2_Plug(kW)</th>\n",
       "      <th>z2_S1(degC)</th>\n",
       "      <th>z2_S1(RH%)</th>\n",
       "      <th>z2_S1(lux)</th>\n",
       "      <th>frame_id</th>\n",
       "    </tr>\n",
       "    <tr>\n",
       "      <th>Date</th>\n",
       "      <th></th>\n",
       "      <th></th>\n",
       "      <th></th>\n",
       "      <th></th>\n",
       "      <th></th>\n",
       "      <th></th>\n",
       "      <th></th>\n",
       "    </tr>\n",
       "  </thead>\n",
       "  <tbody>\n",
       "    <tr>\n",
       "      <th>2019-03-06 16:08:00</th>\n",
       "      <td>26.16</td>\n",
       "      <td>7.48</td>\n",
       "      <td>0.87</td>\n",
       "      <td>21.35</td>\n",
       "      <td>57.37</td>\n",
       "      <td>60.0</td>\n",
       "      <td>frame_0</td>\n",
       "    </tr>\n",
       "    <tr>\n",
       "      <th>2019-03-06 16:09:00</th>\n",
       "      <td>13.15</td>\n",
       "      <td>6.41</td>\n",
       "      <td>0.89</td>\n",
       "      <td>21.38</td>\n",
       "      <td>57.26</td>\n",
       "      <td>60.0</td>\n",
       "      <td>frame_0</td>\n",
       "    </tr>\n",
       "    <tr>\n",
       "      <th>2019-03-06 16:10:00</th>\n",
       "      <td>13.16</td>\n",
       "      <td>6.40</td>\n",
       "      <td>1.20</td>\n",
       "      <td>21.37</td>\n",
       "      <td>57.19</td>\n",
       "      <td>60.0</td>\n",
       "      <td>frame_0</td>\n",
       "    </tr>\n",
       "    <tr>\n",
       "      <th>2019-03-06 16:11:00</th>\n",
       "      <td>12.98</td>\n",
       "      <td>6.41</td>\n",
       "      <td>0.90</td>\n",
       "      <td>21.40</td>\n",
       "      <td>57.14</td>\n",
       "      <td>60.0</td>\n",
       "      <td>frame_0</td>\n",
       "    </tr>\n",
       "    <tr>\n",
       "      <th>2019-03-06 16:12:00</th>\n",
       "      <td>13.12</td>\n",
       "      <td>6.43</td>\n",
       "      <td>0.99</td>\n",
       "      <td>21.40</td>\n",
       "      <td>57.60</td>\n",
       "      <td>61.0</td>\n",
       "      <td>frame_0</td>\n",
       "    </tr>\n",
       "  </tbody>\n",
       "</table>\n",
       "</div>"
      ],
      "text/plain": [
       "                     z2_AC1(kW)  z2_Light(kW)  z2_Plug(kW)  z2_S1(degC)  \\\n",
       "Date                                                                      \n",
       "2019-03-06 16:08:00       26.16          7.48         0.87        21.35   \n",
       "2019-03-06 16:09:00       13.15          6.41         0.89        21.38   \n",
       "2019-03-06 16:10:00       13.16          6.40         1.20        21.37   \n",
       "2019-03-06 16:11:00       12.98          6.41         0.90        21.40   \n",
       "2019-03-06 16:12:00       13.12          6.43         0.99        21.40   \n",
       "\n",
       "                     z2_S1(RH%)  z2_S1(lux) frame_id  \n",
       "Date                                                  \n",
       "2019-03-06 16:08:00       57.37        60.0  frame_0  \n",
       "2019-03-06 16:09:00       57.26        60.0  frame_0  \n",
       "2019-03-06 16:10:00       57.19        60.0  frame_0  \n",
       "2019-03-06 16:11:00       57.14        60.0  frame_0  \n",
       "2019-03-06 16:12:00       57.60        61.0  frame_0  "
      ]
     },
     "execution_count": 2,
     "metadata": {},
     "output_type": "execute_result"
    }
   ],
   "source": [
    "z2 = pd.read_csv(\"../datasets/generated/2019_z2_Floor6.csv\", index_col=[0])\n",
    "z2.head()"
   ]
  },
  {
   "cell_type": "code",
   "execution_count": 3,
   "id": "aa645914",
   "metadata": {},
   "outputs": [],
   "source": [
    "z2.index = pd.to_datetime(z2.index)"
   ]
  },
  {
   "cell_type": "code",
   "execution_count": 4,
   "id": "a7af53c6",
   "metadata": {},
   "outputs": [
    {
     "name": "stdout",
     "output_type": "stream",
     "text": [
      "208 days 20:25:00\n"
     ]
    }
   ],
   "source": [
    "print(np.max(z2.index) - np.min(z2.index))"
   ]
  },
  {
   "cell_type": "code",
   "execution_count": 5,
   "id": "a0e3de7d",
   "metadata": {},
   "outputs": [],
   "source": [
    "all_zones_floor6 = {\n",
    "    'z1': pd.read_csv(\"../datasets/generated/2019_z1_Floor4.csv\", index_col=[0]),\n",
    "    'z2': pd.read_csv(\"../datasets/generated/2019_z2_Floor4.csv\", index_col=[0]),\n",
    "    'z3': pd.read_csv(\"../datasets/generated/2019_z3_Floor4.csv\", index_col=[0]),\n",
    "    'z4': pd.read_csv(\"../datasets/generated/2019_z4_Floor4.csv\", index_col=[0]),\n",
    "    'z5': pd.read_csv(\"../datasets/generated/2019_z5_Floor4.csv\", index_col=[0])\n",
    "}"
   ]
  },
  {
   "cell_type": "code",
   "execution_count": 6,
   "id": "59897210",
   "metadata": {},
   "outputs": [],
   "source": [
    "for zone in all_zones_floor6.keys():\n",
    "    all_zones_floor6[zone].index = pd.to_datetime(all_zones_floor6[zone].index)"
   ]
  },
  {
   "cell_type": "code",
   "execution_count": 7,
   "id": "8ec992e3",
   "metadata": {},
   "outputs": [
    {
     "data": {
      "text/html": [
       "<div>\n",
       "<style scoped>\n",
       "    .dataframe tbody tr th:only-of-type {\n",
       "        vertical-align: middle;\n",
       "    }\n",
       "\n",
       "    .dataframe tbody tr th {\n",
       "        vertical-align: top;\n",
       "    }\n",
       "\n",
       "    .dataframe thead th {\n",
       "        text-align: right;\n",
       "    }\n",
       "</style>\n",
       "<table border=\"1\" class=\"dataframe\">\n",
       "  <thead>\n",
       "    <tr style=\"text-align: right;\">\n",
       "      <th></th>\n",
       "      <th>z2_AC1(kW)</th>\n",
       "      <th>z2_Light(kW)</th>\n",
       "      <th>z2_Plug(kW)</th>\n",
       "      <th>z2_S1(degC)</th>\n",
       "      <th>z2_S1(RH%)</th>\n",
       "      <th>z2_S1(lux)</th>\n",
       "      <th>frame_id</th>\n",
       "    </tr>\n",
       "    <tr>\n",
       "      <th>Date</th>\n",
       "      <th></th>\n",
       "      <th></th>\n",
       "      <th></th>\n",
       "      <th></th>\n",
       "      <th></th>\n",
       "      <th></th>\n",
       "      <th></th>\n",
       "    </tr>\n",
       "  </thead>\n",
       "  <tbody>\n",
       "    <tr>\n",
       "      <th>2019-03-06 14:53:00</th>\n",
       "      <td>16.41</td>\n",
       "      <td>2.17</td>\n",
       "      <td>0.29</td>\n",
       "      <td>21.15</td>\n",
       "      <td>69.70</td>\n",
       "      <td>60.0</td>\n",
       "      <td>frame_0</td>\n",
       "    </tr>\n",
       "    <tr>\n",
       "      <th>2019-03-06 14:54:00</th>\n",
       "      <td>16.40</td>\n",
       "      <td>2.18</td>\n",
       "      <td>0.29</td>\n",
       "      <td>21.19</td>\n",
       "      <td>68.59</td>\n",
       "      <td>37.0</td>\n",
       "      <td>frame_0</td>\n",
       "    </tr>\n",
       "    <tr>\n",
       "      <th>2019-03-06 14:55:00</th>\n",
       "      <td>16.27</td>\n",
       "      <td>2.18</td>\n",
       "      <td>0.29</td>\n",
       "      <td>21.00</td>\n",
       "      <td>66.84</td>\n",
       "      <td>44.0</td>\n",
       "      <td>frame_0</td>\n",
       "    </tr>\n",
       "    <tr>\n",
       "      <th>2019-03-06 14:56:00</th>\n",
       "      <td>16.32</td>\n",
       "      <td>2.18</td>\n",
       "      <td>0.29</td>\n",
       "      <td>20.77</td>\n",
       "      <td>67.81</td>\n",
       "      <td>44.0</td>\n",
       "      <td>frame_0</td>\n",
       "    </tr>\n",
       "    <tr>\n",
       "      <th>2019-03-06 14:57:00</th>\n",
       "      <td>16.47</td>\n",
       "      <td>2.18</td>\n",
       "      <td>0.29</td>\n",
       "      <td>20.62</td>\n",
       "      <td>68.74</td>\n",
       "      <td>44.0</td>\n",
       "      <td>frame_0</td>\n",
       "    </tr>\n",
       "  </tbody>\n",
       "</table>\n",
       "</div>"
      ],
      "text/plain": [
       "                     z2_AC1(kW)  z2_Light(kW)  z2_Plug(kW)  z2_S1(degC)  \\\n",
       "Date                                                                      \n",
       "2019-03-06 14:53:00       16.41          2.17         0.29        21.15   \n",
       "2019-03-06 14:54:00       16.40          2.18         0.29        21.19   \n",
       "2019-03-06 14:55:00       16.27          2.18         0.29        21.00   \n",
       "2019-03-06 14:56:00       16.32          2.18         0.29        20.77   \n",
       "2019-03-06 14:57:00       16.47          2.18         0.29        20.62   \n",
       "\n",
       "                     z2_S1(RH%)  z2_S1(lux) frame_id  \n",
       "Date                                                  \n",
       "2019-03-06 14:53:00       69.70        60.0  frame_0  \n",
       "2019-03-06 14:54:00       68.59        37.0  frame_0  \n",
       "2019-03-06 14:55:00       66.84        44.0  frame_0  \n",
       "2019-03-06 14:56:00       67.81        44.0  frame_0  \n",
       "2019-03-06 14:57:00       68.74        44.0  frame_0  "
      ]
     },
     "execution_count": 7,
     "metadata": {},
     "output_type": "execute_result"
    }
   ],
   "source": [
    "all_zones_floor6['z2'].head()"
   ]
  },
  {
   "cell_type": "code",
   "execution_count": 8,
   "id": "7471e6df",
   "metadata": {},
   "outputs": [
    {
     "data": {
      "text/html": [
       "<div>\n",
       "<style scoped>\n",
       "    .dataframe tbody tr th:only-of-type {\n",
       "        vertical-align: middle;\n",
       "    }\n",
       "\n",
       "    .dataframe tbody tr th {\n",
       "        vertical-align: top;\n",
       "    }\n",
       "\n",
       "    .dataframe thead th {\n",
       "        text-align: right;\n",
       "    }\n",
       "</style>\n",
       "<table border=\"1\" class=\"dataframe\">\n",
       "  <thead>\n",
       "    <tr style=\"text-align: right;\">\n",
       "      <th></th>\n",
       "      <th>z2_AC1(kW)</th>\n",
       "      <th>z2_Light(kW)</th>\n",
       "      <th>z2_Plug(kW)</th>\n",
       "      <th>z2_S1(degC)</th>\n",
       "      <th>z2_S1(RH%)</th>\n",
       "      <th>z2_S1(lux)</th>\n",
       "      <th>frame_id</th>\n",
       "    </tr>\n",
       "    <tr>\n",
       "      <th>Date</th>\n",
       "      <th></th>\n",
       "      <th></th>\n",
       "      <th></th>\n",
       "      <th></th>\n",
       "      <th></th>\n",
       "      <th></th>\n",
       "      <th></th>\n",
       "    </tr>\n",
       "  </thead>\n",
       "  <tbody>\n",
       "    <tr>\n",
       "      <th>2019-03-06 14:53:00</th>\n",
       "      <td>16.41</td>\n",
       "      <td>2.17</td>\n",
       "      <td>0.29</td>\n",
       "      <td>21.15</td>\n",
       "      <td>69.70</td>\n",
       "      <td>60.0</td>\n",
       "      <td>frame_0</td>\n",
       "    </tr>\n",
       "    <tr>\n",
       "      <th>2019-03-06 14:54:00</th>\n",
       "      <td>16.40</td>\n",
       "      <td>2.18</td>\n",
       "      <td>0.29</td>\n",
       "      <td>21.19</td>\n",
       "      <td>68.59</td>\n",
       "      <td>37.0</td>\n",
       "      <td>frame_0</td>\n",
       "    </tr>\n",
       "    <tr>\n",
       "      <th>2019-03-06 14:55:00</th>\n",
       "      <td>16.27</td>\n",
       "      <td>2.18</td>\n",
       "      <td>0.29</td>\n",
       "      <td>21.00</td>\n",
       "      <td>66.84</td>\n",
       "      <td>44.0</td>\n",
       "      <td>frame_0</td>\n",
       "    </tr>\n",
       "    <tr>\n",
       "      <th>2019-03-06 14:56:00</th>\n",
       "      <td>16.32</td>\n",
       "      <td>2.18</td>\n",
       "      <td>0.29</td>\n",
       "      <td>20.77</td>\n",
       "      <td>67.81</td>\n",
       "      <td>44.0</td>\n",
       "      <td>frame_0</td>\n",
       "    </tr>\n",
       "    <tr>\n",
       "      <th>2019-03-06 14:57:00</th>\n",
       "      <td>16.47</td>\n",
       "      <td>2.18</td>\n",
       "      <td>0.29</td>\n",
       "      <td>20.62</td>\n",
       "      <td>68.74</td>\n",
       "      <td>44.0</td>\n",
       "      <td>frame_0</td>\n",
       "    </tr>\n",
       "  </tbody>\n",
       "</table>\n",
       "</div>"
      ],
      "text/plain": [
       "                     z2_AC1(kW)  z2_Light(kW)  z2_Plug(kW)  z2_S1(degC)  \\\n",
       "Date                                                                      \n",
       "2019-03-06 14:53:00       16.41          2.17         0.29        21.15   \n",
       "2019-03-06 14:54:00       16.40          2.18         0.29        21.19   \n",
       "2019-03-06 14:55:00       16.27          2.18         0.29        21.00   \n",
       "2019-03-06 14:56:00       16.32          2.18         0.29        20.77   \n",
       "2019-03-06 14:57:00       16.47          2.18         0.29        20.62   \n",
       "\n",
       "                     z2_S1(RH%)  z2_S1(lux) frame_id  \n",
       "Date                                                  \n",
       "2019-03-06 14:53:00       69.70        60.0  frame_0  \n",
       "2019-03-06 14:54:00       68.59        37.0  frame_0  \n",
       "2019-03-06 14:55:00       66.84        44.0  frame_0  \n",
       "2019-03-06 14:56:00       67.81        44.0  frame_0  \n",
       "2019-03-06 14:57:00       68.74        44.0  frame_0  "
      ]
     },
     "execution_count": 8,
     "metadata": {},
     "output_type": "execute_result"
    }
   ],
   "source": [
    "all_zones_floor6['z2'].head()"
   ]
  },
  {
   "cell_type": "code",
   "execution_count": null,
   "id": "aee7c379",
   "metadata": {},
   "outputs": [],
   "source": [
    "from scipy.stats import pearsonr\n",
    "\n",
    "ref_zone = 'z1' \n",
    "ref_v = 'AC1(kW)'\n",
    "conditions = ['with_0', 'without_0']\n",
    "\n",
    "ref_df = all_zones_floor6[ref_zone]\n",
    "ref_df.dropna(inplace=True)\n",
    "corr_results = pd.DataFrame()\n",
    "\n",
    "for zone in all_zones_floor6.keys():\n",
    "    dict_result = {}\n",
    "#     if zone != ref_zone:\n",
    "        \n",
    "    other_df = all_zones_floor6[zone]\n",
    "    other_df.dropna(inplace=True)\n",
    "\n",
    "    idxes = np.intersect1d(ref_df.index, other_df.index)\n",
    "    other_df = other_df.loc[idxes, :]\n",
    "    other_df.drop(columns = ['frame_id'], inplace=True)\n",
    "    ref_df_idx = ref_df.loc[idxes, :]\n",
    "\n",
    "    init_v = f\"{ref_zone}_{ref_v}\"\n",
    "\n",
    "    for col in other_df.columns:\n",
    "        dict_result['first_zone'] = ref_zone\n",
    "        dict_result['second_zone'] = zone\n",
    "        dict_result['parameter'] = col\n",
    "#         indices_not_zero = ref_df_idx[init_v] != 0.0\n",
    "#         ref_df_idx = ref_df_idx[indices_not_zero]\n",
    "#         other_df = other_df[indices_not_zero]\n",
    "\n",
    "        for future in [0, 5, 10, 15, 20]:\n",
    "            new_df = pd.DataFrame()\n",
    "            new_df[init_v] = ref_df_idx[init_v]\n",
    "            new_df[col] = other_df[col].shift(periods = -1 * future)\n",
    "            new_df.dropna(inplace=True)\n",
    "            corr, _ = pearsonr(new_df[init_v], new_df[col])\n",
    "            if np.std(new_df[col].values) == 0.0:\n",
    "                print(col, new_df[col].values)\n",
    "#             print(np.std(new_df[init_v].values), np.std(new_df[col].values)) \n",
    "\n",
    "            dict_result[f'corr_{future}'] = corr\n",
    "        corr_results = pd.concat([corr_results, pd.DataFrame.from_dict([dict_result])])"
   ]
  },
  {
   "cell_type": "code",
   "execution_count": null,
   "id": "64cf1d8d",
   "metadata": {},
   "outputs": [],
   "source": [
    "corr_results.index = range(corr_results.shape[0])"
   ]
  },
  {
   "cell_type": "code",
   "execution_count": null,
   "id": "ded53e4c",
   "metadata": {},
   "outputs": [],
   "source": [
    "corr_results.head(30)"
   ]
  },
  {
   "cell_type": "code",
   "execution_count": 104,
   "id": "a604a985",
   "metadata": {},
   "outputs": [],
   "source": [
    "corr_results.to_csv(\"../stats/2019_Floor5_z1_corr_zones.csv\")"
   ]
  },
  {
   "cell_type": "code",
   "execution_count": 11,
   "id": "12aeb69a",
   "metadata": {},
   "outputs": [
    {
     "name": "stdout",
     "output_type": "stream",
     "text": [
      "(313076, 7)\n",
      "(293570, 7)\n",
      "(423556, 3)\n",
      "(325453, 10)\n",
      "(319426, 7)\n"
     ]
    }
   ],
   "source": [
    "for zone in all_zones_floor6.keys():\n",
    "    print(all_zones_floor6[zone].shape)"
   ]
  },
  {
   "cell_type": "code",
   "execution_count": 3,
   "id": "ce37011a",
   "metadata": {},
   "outputs": [],
   "source": [
    "df_z2 = pd.read_csv(\"../datasets/generated/2019_z2_Floor6.csv\", index_col=[0])\n",
    "df_z3 = pd.read_csv(\"../datasets/generated/2019_z3_Floor6.csv\", index_col=[0])"
   ]
  },
  {
   "cell_type": "code",
   "execution_count": 4,
   "id": "930ab5f4",
   "metadata": {},
   "outputs": [],
   "source": [
    "df_z2.index = pd.to_datetime(df_z2.index)\n",
    "df_z3.index = pd.to_datetime(df_z3.index)"
   ]
  },
  {
   "cell_type": "code",
   "execution_count": 8,
   "id": "58f8af8c",
   "metadata": {},
   "outputs": [
    {
     "name": "stdout",
     "output_type": "stream",
     "text": [
      "(293570, 7) (423556, 3)\n"
     ]
    }
   ],
   "source": [
    "print(df_z2.shape, df_z3.shape)"
   ]
  },
  {
   "cell_type": "code",
   "execution_count": null,
   "id": "cc4fcd63",
   "metadata": {},
   "outputs": [],
   "source": []
  }
 ],
 "metadata": {
  "kernelspec": {
   "display_name": "Python 3 (ipykernel)",
   "language": "python",
   "name": "python3"
  },
  "language_info": {
   "codemirror_mode": {
    "name": "ipython",
    "version": 3
   },
   "file_extension": ".py",
   "mimetype": "text/x-python",
   "name": "python",
   "nbconvert_exporter": "python",
   "pygments_lexer": "ipython3",
   "version": "3.9.5"
  }
 },
 "nbformat": 4,
 "nbformat_minor": 5
}
