{
 "cells": [
  {
   "cell_type": "code",
   "execution_count": null,
   "id": "886858bb",
   "metadata": {},
   "outputs": [],
   "source": [
    "import numpy as np\n",
    "import os\n",
    "import pandas as pd\n",
    "import matplotlib.pyplot as plt\n",
    "import seaborn as sns"
   ]
  },
  {
   "cell_type": "code",
   "execution_count": null,
   "id": "21f0321b",
   "metadata": {},
   "outputs": [],
   "source": [
    "df_results = pd.read_csv(\"../results/stats/stats_2019_z2_Floor6_m3_months_validation.csv\", index_col=[0])\n",
    "df_results.head()"
   ]
  },
  {
   "cell_type": "code",
   "execution_count": null,
   "id": "f93ae5ec",
   "metadata": {},
   "outputs": [],
   "source": [
    "df_results = df_results.fillna(0) "
   ]
  },
  {
   "cell_type": "code",
   "execution_count": null,
   "id": "c9bc7e3c",
   "metadata": {},
   "outputs": [],
   "source": [
    "set_columns = df_results.columns\n",
    "print(set_columns)"
   ]
  },
  {
   "cell_type": "code",
   "execution_count": null,
   "id": "c320e578",
   "metadata": {},
   "outputs": [],
   "source": [
    "df_new = pd.DataFrame()\n",
    "\n",
    "month_classification = {\n",
    "    3: 'Winter',\n",
    "    4: 'Spring',\n",
    "    5: 'Spring',\n",
    "    6: 'Spring',\n",
    "    7: 'Summer',\n",
    "    8: 'Summer',\n",
    "    9: 'Summer',\n",
    "    10: 'Fall'\n",
    "}\n",
    "\n",
    "f = 20\n",
    "\n",
    "dict_result = {}\n",
    "dict_result['history'] = f\n",
    "dict_result['future'] = f\n",
    "selected_f_h = df_results.loc[(df_results.history == f) & (df_results.future == f), df_results.columns[4:]]\n",
    "selected_f_h.index = range(selected_f_h.shape[0])\n",
    "\n",
    "for col in selected_f_h:\n",
    "    value = selected_f_h.loc[0, col]\n",
    "    split_col = col.split(\"_\")\n",
    "    month = int(split_col[0].split(\"-\")[1])\n",
    "    bin_index = int(split_col[1].split(\"-\")[1])\n",
    "    \n",
    "    dict_result[\"month\"] = month\n",
    "    dict_result['season'] = month_classification[month]\n",
    "    dict_result['bin'] = bin_index\n",
    "    dict_result['value'] = value\n",
    "    \n",
    "    df_new = pd.concat([df_new, pd.DataFrame.from_dict([dict_result])])\n",
    "df_new.index = range(df_new.shape[0])"
   ]
  },
  {
   "cell_type": "code",
   "execution_count": null,
   "id": "766640a7",
   "metadata": {},
   "outputs": [],
   "source": [
    "sns.set_theme(style = 'darkgrid')\n",
    "\n",
    "fig, ax = plt.subplots(figsize=  (20, 7))\n",
    "bar = sns.barplot(data = df_new, x = 'season', y='value', hue='bin', ax = ax)\n",
    "hatches = ['|', '-', 'x', '\\\\', '//', '+']\n",
    "\n",
    "for i,thisbar in enumerate(bar.patches):\n",
    "    if i <= 3 and i >= 0:\n",
    "        thisbar.set_hatch(hatches[0])\n",
    "    elif (i >= 4) and (i <= 7): \n",
    "        thisbar.set_hatch(hatches[1])\n",
    "    elif (i >= 8) and (i <= 11): \n",
    "        thisbar.set_hatch(hatches[2])\n",
    "    elif (i >= 12) and (i <= 15): \n",
    "        thisbar.set_hatch(hatches[3])\n",
    "    elif (i >= 16) and (i <= 19): \n",
    "        thisbar.set_hatch(hatches[4])\n",
    "    else:\n",
    "        thisbar.set_hatch(hatches[5])\n",
    "        \n",
    "ax.set_xlabel(\"Season\", fontsize=40)\n",
    "ax.set_ylabel(\"MAE\", fontsize=40)\n",
    "plt.tick_params(labelsize = 35)\n",
    "plt.legend(fontsize=25, title=\"Bins\", title_fontsize = 30, fancybox = True)\n",
    "plt.title(f\"MAE for Prediction Window  = {f}\", fontsize = 45)\n",
    "plt.savefig(f\"../results/figures/bin_season_{f}.png\", bbox_inches='tight', pad_inches=0)\n",
    "plt.savefig(f\"../results/figures/bin_season_{f}.eps\", bbox_inches='tight', pad_inches=0)"
   ]
  },
  {
   "cell_type": "code",
   "execution_count": null,
   "id": "e74f45e8",
   "metadata": {},
   "outputs": [],
   "source": [
    "df_wo_fall = pd.read_csv(\"../results/stats/stats_2019_z2_h-10_Floor6_m3_month-10_feature_imp.csv\", index_col=[0])\n",
    "df_wo_fall.head()"
   ]
  },
  {
   "cell_type": "code",
   "execution_count": null,
   "id": "42ab679c",
   "metadata": {},
   "outputs": [],
   "source": [
    "df_wo1_summer = pd.read_csv(\"../results/stats/stats_2019_z2_h-10_Floor6_m3_month-7_feature_imp.csv\", index_col = [0])\n",
    "df_wo2_summer = pd.read_csv(\"../results/stats/stats_2019_z2_h-10_Floor6_m3_month-8_feature_imp.csv\", index_col = [0])\n",
    "df_wo3_summer = pd.read_csv(\"../results/stats/stats_2019_z2_h-10_Floor6_m3_month-9_feature_imp.csv\", index_col = [0])"
   ]
  },
  {
   "cell_type": "code",
   "execution_count": null,
   "id": "fe336b58",
   "metadata": {},
   "outputs": [],
   "source": [
    "combined_df = pd.concat([df_wo_fall, df_wo1_summer,df_wo2_summer,df_wo3_summer], axis = 1)\n",
    "combined_df.columns = ['importance_wo_fall', 'importance_wo1_summer','importance_wo2_summer','importance_wo3_summer']\n",
    "combined_df.head()"
   ]
  },
  {
   "cell_type": "code",
   "execution_count": null,
   "id": "c3312094",
   "metadata": {},
   "outputs": [],
   "source": [
    "combined_df['perc_diff1'] = (combined_df.importance_wo_fall.values - combined_df.importance_wo1_summer.values) / (combined_df.importance_wo1_summer.values)\n",
    "combined_df['perc_diff2'] = (combined_df.importance_wo_fall.values - combined_df.importance_wo2_summer.values) / (combined_df.importance_wo2_summer.values)\n",
    "combined_df['perc_diff3'] = (combined_df.importance_wo_fall.values - combined_df.importance_wo3_summer.values) / (combined_df.importance_wo3_summer.values)"
   ]
  },
  {
   "cell_type": "code",
   "execution_count": null,
   "id": "0b566e91",
   "metadata": {},
   "outputs": [],
   "source": [
    "combined_df['perc_diff1'] = combined_df['perc_diff1'] * 100\n",
    "combined_df['perc_diff2'] = combined_df['perc_diff3'] * 100\n",
    "combined_df['perc_diff3'] = combined_df['perc_diff3'] * 100"
   ]
  },
  {
   "cell_type": "code",
   "execution_count": null,
   "id": "23f20896",
   "metadata": {},
   "outputs": [],
   "source": [
    "combined_df.head()"
   ]
  },
  {
   "cell_type": "code",
   "execution_count": null,
   "id": "4cd5804f",
   "metadata": {},
   "outputs": [],
   "source": [
    "sorted_df = combined_df.sort_values(by='importance_wo_fall', ascending=False)"
   ]
  },
  {
   "cell_type": "code",
   "execution_count": null,
   "id": "2b089c99",
   "metadata": {},
   "outputs": [],
   "source": [
    "sorted_df.head()"
   ]
  },
  {
   "cell_type": "code",
   "execution_count": null,
   "id": "5930aefd",
   "metadata": {},
   "outputs": [],
   "source": [
    "sorted_df['perc_change'] = sorted_df[['perc_diff1', 'perc_diff2', 'perc_diff3']].mean(axis = 1)\n",
    "sorted_df.head(22)"
   ]
  },
  {
   "cell_type": "code",
   "execution_count": null,
   "id": "95cec737",
   "metadata": {},
   "outputs": [],
   "source": [
    "np.sum(sorted_df.loc[sorted_df.index[:22], 'importance_wo_fall'])"
   ]
  },
  {
   "cell_type": "code",
   "execution_count": null,
   "id": "1ab73402",
   "metadata": {},
   "outputs": [],
   "source": [
    "sns.set_theme(style = 'whitegrid')\n",
    "\n",
    "fig, ax = plt.subplots(figsize = (18, 10))\n",
    "\n",
    "bars = sorted_df.loc[sorted_df.index[:6], 'perc_change'].sort_values().plot(kind ='barh')\n",
    "ax.tick_params(labelsize= 30)\n",
    "ax.set_xlabel(\"\")"
   ]
  },
  {
   "cell_type": "code",
   "execution_count": null,
   "id": "69520277",
   "metadata": {},
   "outputs": [],
   "source": [
    "sns.set_theme(style = 'whitegrid')\n",
    "\n",
    "fig, ax = plt.subplots(figsize = (18, 10))\n",
    "\n",
    "# bars = sorted_df.loc[sorted_df.index[:6], 'perc_change'].sort_values().plot(kind ='barh')\n",
    "bars = ax.barh(sorted_df.loc[sorted_df.index[:6], 'perc_change'].sort_values().index, sorted_df.loc[sorted_df.index[:6], 'perc_change'].sort_values())\n",
    "# bars = sorted_df.loc[sorted_df.index[:6], 'perc_change'].sort_values().plot(kind ='barh')\n",
    "ax.bar_label(bars, fmt='%.2f', fontsize=25, color='b', padding=5, rotation=-90)\n",
    "ax.tick_params(labelsize= 30)\n",
    "ax.set_xlabel(\"Percentage Difference\", fontsize=35)\n",
    "ax.set_ylabel(\"Features\", fontsize=35)\n",
    "ax.set_title(\"Percentage differences of top 6 features\", fontsize= 40)\n",
    "plt.tight_layout()\n",
    "plt.savefig(f\"../results/figures/importance_differences.png\", bbox_inches='tight', pad_inches=0)\n",
    "plt.savefig(f\"../results/figures/importance_differences.eps\", bbox_inches='tight', pad_inches=0)"
   ]
  },
  {
   "cell_type": "code",
   "execution_count": null,
   "id": "556baf46",
   "metadata": {},
   "outputs": [],
   "source": []
  }
 ],
 "metadata": {
  "kernelspec": {
   "display_name": "Python 3 (ipykernel)",
   "language": "python",
   "name": "python3"
  },
  "language_info": {
   "codemirror_mode": {
    "name": "ipython",
    "version": 3
   },
   "file_extension": ".py",
   "mimetype": "text/x-python",
   "name": "python",
   "nbconvert_exporter": "python",
   "pygments_lexer": "ipython3",
   "version": "3.9.5"
  }
 },
 "nbformat": 4,
 "nbformat_minor": 5
}
